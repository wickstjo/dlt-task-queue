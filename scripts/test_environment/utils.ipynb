{
 "cells": [
  {
   "cell_type": "code",
   "execution_count": 5,
   "metadata": {},
   "outputs": [],
   "source": [
    "import time\n",
    "import re\n",
    "from dateutil import parser\n",
    "import yaml\n",
    "import json\n",
    "import hashlib\n",
    "import base64"
   ]
  },
  {
   "cell_type": "markdown",
   "metadata": {},
   "source": [
    "### LOAD YAML OR JSON FILE"
   ]
  },
  {
   "cell_type": "code",
   "execution_count": 3,
   "metadata": {},
   "outputs": [],
   "source": [
    "def load_yaml(path):\n",
    "    with open(path, mode='r') as file:\n",
    "        return yaml.load(file, Loader=yaml.FullLoader)"
   ]
  },
  {
   "cell_type": "code",
   "execution_count": 4,
   "metadata": {},
   "outputs": [],
   "source": [
    "def load_json(path):\n",
    "    with open(path) as json_file:\n",
    "        return json.load(json_file)"
   ]
  },
  {
   "cell_type": "markdown",
   "metadata": {},
   "source": [
    "### HASH DATA WITH SHA256"
   ]
  },
  {
   "cell_type": "code",
   "execution_count": 6,
   "metadata": {},
   "outputs": [],
   "source": [
    "def hash_data(data):\n",
    "    \n",
    "    # REMOVE WHITESPACES\n",
    "    to_string = json.dumps(data, separators=(',', ':'))\n",
    "    \n",
    "    # ENCODE THE STRING WITH UTF8\n",
    "    encoded = to_string.encode('utf-8')\n",
    "    \n",
    "    # HASH ENCODED DATA\n",
    "    hashed = hashlib.sha256(encoded).hexdigest()\n",
    "    \n",
    "    return hashed"
   ]
  },
  {
   "cell_type": "markdown",
   "metadata": {},
   "source": [
    "### PARSE LINE INTO DICT"
   ]
  },
  {
   "cell_type": "code",
   "execution_count": 5,
   "metadata": {},
   "outputs": [],
   "source": [
    "def parse_line(line):\n",
    "    \n",
    "    # FISH OUT THE CODE\n",
    "    matches = re.findall(r\"\\[([0-9. ]*[0-9]+)\\]\", line)\n",
    "    \n",
    "    # DEFAULT TO NO CODE\n",
    "    code = 'none'\n",
    "    \n",
    "    # IF A CODE MATCH IS FOUND, USE IT INSTEAD\n",
    "    if len(matches) > 0:\n",
    "        raw_code = matches[0]\n",
    "        code = raw_code.replace(' ', '')\n",
    "    \n",
    "        # REMOVE THE BRACKETED CODE FROM THE LINE\n",
    "        temp_block = '[{}]'.format(raw_code)\n",
    "        line = line.replace(temp_block, '')\n",
    "    \n",
    "    # FIND ALL SPACES IN STRING\n",
    "    spaces = [i for i, ltr in enumerate(line) if ltr == ' ']\n",
    "    \n",
    "    # FISH OUT THE DATE\n",
    "    raw_date = line[:spaces[2]]\n",
    "    timestamp = int(parser.parse(raw_date).timestamp())\n",
    "    \n",
    "    # FISH OUT THE MODULE\n",
    "    raw_module = line[spaces[3]:spaces[4]]\n",
    "    module = re.sub(r'[^A-Za-z]', '', raw_module)\n",
    "    \n",
    "    # FISH OUT THE REMAINING MESSAGE\n",
    "    message = line[spaces[4]:].strip()\n",
    "    message = re.sub(' +', ' ', message)\n",
    "    \n",
    "    return module, code, message, timestamp"
   ]
  },
  {
   "cell_type": "markdown",
   "metadata": {},
   "source": [
    "### EXTRACT NUMBERS FROM MESSAGE"
   ]
  },
  {
   "cell_type": "code",
   "execution_count": 1,
   "metadata": {},
   "outputs": [],
   "source": [
    "def extract_numbers(message):\n",
    "\n",
    "    # EXTRACT NUMERIC VALUES\n",
    "    values = re.findall(r\"([0-9. ]*[0-9]+)\", message)\n",
    "    \n",
    "    # SUBSTITUTE THEM WITH BRACKETS\n",
    "    substituted = re.sub(r\"([0-9. ]*[0-9]+)\", '{}', message)\n",
    "    \n",
    "    return values, substituted"
   ]
  },
  {
   "cell_type": "markdown",
   "metadata": {},
   "source": [
    "### ENCODE JSON WITH BASE64"
   ]
  },
  {
   "cell_type": "code",
   "execution_count": 4,
   "metadata": {},
   "outputs": [],
   "source": [
    "def encode(data):\n",
    "    \n",
    "    # STRINGIFY & CONVERT TO BYTES\n",
    "    stringified = json.dumps(data)\n",
    "    to_bytes = str.encode(stringified)\n",
    "    \n",
    "    # ENCODE\n",
    "    encoded = base64.b64encode(to_bytes)\n",
    "    \n",
    "    # RETURN AS STRING\n",
    "    return encoded.decode()"
   ]
  },
  {
   "cell_type": "code",
   "execution_count": null,
   "metadata": {},
   "outputs": [],
   "source": []
  }
 ],
 "metadata": {
  "kernelspec": {
   "display_name": "Python 3",
   "language": "python",
   "name": "python3"
  },
  "language_info": {
   "codemirror_mode": {
    "name": "ipython",
    "version": 3
   },
   "file_extension": ".py",
   "mimetype": "text/x-python",
   "name": "python",
   "nbconvert_exporter": "python",
   "pygments_lexer": "ipython3",
   "version": "3.8.5"
  }
 },
 "nbformat": 4,
 "nbformat_minor": 4
}
