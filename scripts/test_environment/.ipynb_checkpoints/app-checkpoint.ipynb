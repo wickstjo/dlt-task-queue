{
 "cells": [
  {
   "cell_type": "code",
   "execution_count": 2,
   "metadata": {},
   "outputs": [],
   "source": [
    "import os\n",
    "import time\n",
    "import nbimporter"
   ]
  },
  {
   "cell_type": "code",
   "execution_count": 3,
   "metadata": {},
   "outputs": [
    {
     "name": "stdout",
     "output_type": "stream",
     "text": [
      "Importing Jupyter notebook from utils.ipynb\n",
      "Importing Jupyter notebook from blockchain.ipynb\n"
     ]
    }
   ],
   "source": [
    "import utils\n",
    "import blockchain as blockchain_utils"
   ]
  },
  {
   "cell_type": "markdown",
   "metadata": {},
   "source": [
    "### LOAD RESOURCES"
   ]
  },
  {
   "cell_type": "code",
   "execution_count": 4,
   "metadata": {},
   "outputs": [],
   "source": [
    "settings = utils.load_yaml('resources/settings.yaml')"
   ]
  },
  {
   "cell_type": "code",
   "execution_count": 6,
   "metadata": {},
   "outputs": [],
   "source": [
    "task_abi = utils.load_json('resources/TaskManager.json')"
   ]
  },
  {
   "cell_type": "code",
   "execution_count": 7,
   "metadata": {},
   "outputs": [],
   "source": [
    "device_abi = utils.load_json('resources/DeviceManager.json')"
   ]
  },
  {
   "cell_type": "code",
   "execution_count": 19,
   "metadata": {},
   "outputs": [],
   "source": [
    "child_abi = utils.load_json('resources/Device.json')"
   ]
  },
  {
   "cell_type": "markdown",
   "metadata": {},
   "source": [
    "### CONNECT TO THE ETHEREUM GATEWAY"
   ]
  },
  {
   "cell_type": "code",
   "execution_count": 8,
   "metadata": {},
   "outputs": [],
   "source": [
    "web3 = blockchain_utils.connect(settings)"
   ]
  },
  {
   "cell_type": "markdown",
   "metadata": {},
   "source": [
    "### SERIALIZE THE MANAGER CONTRACT"
   ]
  },
  {
   "cell_type": "code",
   "execution_count": 12,
   "metadata": {},
   "outputs": [],
   "source": [
    "device_manager = blockchain_utils.contract({\n",
    "    'address': '0x7c77740eb42B63eFEc05f18789c727D00C1F5F77',\n",
    "    'abi': device_abi['abi']\n",
    "}, web3, settings)"
   ]
  },
  {
   "cell_type": "code",
   "execution_count": 13,
   "metadata": {},
   "outputs": [],
   "source": [
    "task_manager = blockchain_utils.contract({\n",
    "    'address': '0x30A455FE6ba8370ABFdaC44c4D1f45D8FB27AFA4',\n",
    "    'abi': task_abi['abi']\n",
    "}, web3, settings)"
   ]
  },
  {
   "cell_type": "markdown",
   "metadata": {},
   "source": [
    "### INIT MANAGERS"
   ]
  },
  {
   "cell_type": "code",
   "execution_count": 15,
   "metadata": {},
   "outputs": [
    {
     "data": {
      "text/plain": [
       "AttributeDict({'blockHash': HexBytes('0xef64026a02436d1a5978a1f4a2ece4316058672459ec086a88e26bff6d2ed66c'),\n",
       " 'blockNumber': 126251,\n",
       " 'contractAddress': None,\n",
       " 'cumulativeGasUsed': 43483,\n",
       " 'from': '0x1ecC18DC2c41B6A5cC760dEdeBb0D857223A5721',\n",
       " 'gasUsed': 43483,\n",
       " 'logs': [],\n",
       " 'logsBloom': HexBytes('0x00000000000000000000000000000000000000000000000000000000000000000000000000000000000000000000000000000000000000000000000000000000000000000000000000000000000000000000000000000000000000000000000000000000000000000000000000000000000000000000000000000000000000000000000000000000000000000000000000000000000000000000000000000000000000000000000000000000000000000000000000000000000000000000000000000000000000000000000000000000000000000000000000000000000000000000000000000000000000000000000000000000000000000000000000000000'),\n",
       " 'status': 1,\n",
       " 'to': '0x7c77740eb42B63eFEc05f18789c727D00C1F5F77',\n",
       " 'transactionHash': HexBytes('0x9a497d39235c42a1ea98a4db8120789d17a85170adbc4fb4781af468762a5613'),\n",
       " 'transactionIndex': 0})"
      ]
     },
     "execution_count": 15,
     "metadata": {},
     "output_type": "execute_result"
    }
   ],
   "source": [
    "device_manager.write({\n",
    "    'func': 'init',\n",
    "    'params': ['0x30A455FE6ba8370ABFdaC44c4D1f45D8FB27AFA4']\n",
    "})"
   ]
  },
  {
   "cell_type": "code",
   "execution_count": 16,
   "metadata": {},
   "outputs": [
    {
     "data": {
      "text/plain": [
       "AttributeDict({'blockHash': HexBytes('0x95e01001cf042efac090b8042d20057327eaeb5e5df9f54b7bbf34041d04e9b3'),\n",
       " 'blockNumber': 126252,\n",
       " 'contractAddress': None,\n",
       " 'cumulativeGasUsed': 43472,\n",
       " 'from': '0x1ecC18DC2c41B6A5cC760dEdeBb0D857223A5721',\n",
       " 'gasUsed': 43472,\n",
       " 'logs': [],\n",
       " 'logsBloom': HexBytes('0x00000000000000000000000000000000000000000000000000000000000000000000000000000000000000000000000000000000000000000000000000000000000000000000000000000000000000000000000000000000000000000000000000000000000000000000000000000000000000000000000000000000000000000000000000000000000000000000000000000000000000000000000000000000000000000000000000000000000000000000000000000000000000000000000000000000000000000000000000000000000000000000000000000000000000000000000000000000000000000000000000000000000000000000000000000000'),\n",
       " 'status': 1,\n",
       " 'to': '0x30A455FE6ba8370ABFdaC44c4D1f45D8FB27AFA4',\n",
       " 'transactionHash': HexBytes('0x311254fd907934f9cec24b9c9302727ebceb4d1683b6ed9bc79e5f14fd30fdb2'),\n",
       " 'transactionIndex': 0})"
      ]
     },
     "execution_count": 16,
     "metadata": {},
     "output_type": "execute_result"
    }
   ],
   "source": [
    "task_manager.write({\n",
    "    'func': 'init',\n",
    "    'params': ['0x7c77740eb42B63eFEc05f18789c727D00C1F5F77']\n",
    "})"
   ]
  },
  {
   "cell_type": "markdown",
   "metadata": {},
   "source": [
    "### CREATE DEVICE"
   ]
  },
  {
   "cell_type": "code",
   "execution_count": 17,
   "metadata": {},
   "outputs": [
    {
     "data": {
      "text/plain": [
       "AttributeDict({'blockHash': HexBytes('0xf58c06fe6ab712a079bc470166f3316dbc2863a7f6ddf994a877659fa3b1cc70'),\n",
       " 'blockNumber': 126256,\n",
       " 'contractAddress': None,\n",
       " 'cumulativeGasUsed': 455488,\n",
       " 'from': '0x1ecC18DC2c41B6A5cC760dEdeBb0D857223A5721',\n",
       " 'gasUsed': 455488,\n",
       " 'logs': [],\n",
       " 'logsBloom': HexBytes('0x00000000000000000000000000000000000000000000000000000000000000000000000000000000000000000000000000000000000000000000000000000000000000000000000000000000000000000000000000000000000000000000000000000000000000000000000000000000000000000000000000000000000000000000000000000000000000000000000000000000000000000000000000000000000000000000000000000000000000000000000000000000000000000000000000000000000000000000000000000000000000000000000000000000000000000000000000000000000000000000000000000000000000000000000000000000'),\n",
       " 'status': 1,\n",
       " 'to': '0x7c77740eb42B63eFEc05f18789c727D00C1F5F77',\n",
       " 'transactionHash': HexBytes('0xd0925fe26766ff7da5486e362f3f182f871e5a4a4af59b2942b632827f68fabf'),\n",
       " 'transactionIndex': 0})"
      ]
     },
     "execution_count": 17,
     "metadata": {},
     "output_type": "execute_result"
    }
   ],
   "source": [
    "device_manager.write({\n",
    "    'func': 'create',\n",
    "    'params': ['foo', '0x7c77740eb42B63eFEc05f18789c727D00C1F5F77']\n",
    "})"
   ]
  },
  {
   "cell_type": "markdown",
   "metadata": {},
   "source": [
    "### FIND DEVICE"
   ]
  },
  {
   "cell_type": "code",
   "execution_count": 25,
   "metadata": {},
   "outputs": [
    {
     "data": {
      "text/plain": [
       "'0xC8616b248B05B330d5Ab04F4e90bF38AbCD9a361'"
      ]
     },
     "execution_count": 25,
     "metadata": {},
     "output_type": "execute_result"
    }
   ],
   "source": [
    "device_manager.read({\n",
    "    'func': 'fetch_device',\n",
    "    'params': 'foo'\n",
    "})"
   ]
  },
  {
   "cell_type": "markdown",
   "metadata": {},
   "source": [
    "### SET DEVICE TO ACTIVE"
   ]
  },
  {
   "cell_type": "code",
   "execution_count": 26,
   "metadata": {},
   "outputs": [],
   "source": [
    "device_contract = blockchain_utils.contract({\n",
    "    'address': '0xC8616b248B05B330d5Ab04F4e90bF38AbCD9a361',\n",
    "    'abi': child_abi['abi']\n",
    "}, web3, settings)"
   ]
  },
  {
   "cell_type": "code",
   "execution_count": 27,
   "metadata": {},
   "outputs": [
    {
     "data": {
      "text/plain": [
       "AttributeDict({'blockHash': HexBytes('0xfebd6dfb5b663418ec090e686b7c338791b7975aa972d4810ae3a57a100e706f'),\n",
       " 'blockNumber': 126282,\n",
       " 'contractAddress': None,\n",
       " 'cumulativeGasUsed': 27921,\n",
       " 'from': '0x1ecC18DC2c41B6A5cC760dEdeBb0D857223A5721',\n",
       " 'gasUsed': 27921,\n",
       " 'logs': [],\n",
       " 'logsBloom': HexBytes('0x00000000000000000000000000000000000000000000000000000000000000000000000000000000000000000000000000000000000000000000000000000000000000000000000000000000000000000000000000000000000000000000000000000000000000000000000000000000000000000000000000000000000000000000000000000000000000000000000000000000000000000000000000000000000000000000000000000000000000000000000000000000000000000000000000000000000000000000000000000000000000000000000000000000000000000000000000000000000000000000000000000000000000000000000000000000'),\n",
       " 'status': 1,\n",
       " 'to': '0xC8616b248B05B330d5Ab04F4e90bF38AbCD9a361',\n",
       " 'transactionHash': HexBytes('0x36fafe3aadf528a175faa34e71bea12928a69d84d653992c6333e21e96ccda9f'),\n",
       " 'transactionIndex': 0})"
      ]
     },
     "execution_count": 27,
     "metadata": {},
     "output_type": "execute_result"
    }
   ],
   "source": [
    "device_contract.write({\n",
    "    'func': 'toggle_active',\n",
    "    'params': []\n",
    "})"
   ]
  },
  {
   "cell_type": "markdown",
   "metadata": {},
   "source": [
    "### CREATE TASK"
   ]
  },
  {
   "cell_type": "code",
   "execution_count": 28,
   "metadata": {},
   "outputs": [
    {
     "data": {
      "text/plain": [
       "AttributeDict({'blockHash': HexBytes('0x0a441092ca6c6436ef91db2f087995d07dd4250ba79f990d95314735d70f424a'),\n",
       " 'blockNumber': 126286,\n",
       " 'contractAddress': None,\n",
       " 'cumulativeGasUsed': 416181,\n",
       " 'from': '0x1ecC18DC2c41B6A5cC760dEdeBb0D857223A5721',\n",
       " 'gasUsed': 416181,\n",
       " 'logs': [AttributeDict({'address': '0xC8616b248B05B330d5Ab04F4e90bF38AbCD9a361',\n",
       "   'topics': [HexBytes('0x36cfd6bf224d6eb89053af919986dfda8d628ad350b25faf05eea36c223938b4')],\n",
       "   'data': '0x00000000000000000000000000000000000000000000000000000000000000200000000000000000000000000000000000000000000000000000000000000001000000000000000000000000e2e91f63279457304d961b5904409570260f47b3',\n",
       "   'blockNumber': 126286,\n",
       "   'transactionHash': HexBytes('0xda52f6f97887f41c00b1da9603fee9302bfd62204542f5e833991168b32768db'),\n",
       "   'transactionIndex': 0,\n",
       "   'blockHash': HexBytes('0x0a441092ca6c6436ef91db2f087995d07dd4250ba79f990d95314735d70f424a'),\n",
       "   'logIndex': 0,\n",
       "   'removed': False})],\n",
       " 'logsBloom': HexBytes('0x00000000000000000000000000000000000000000100000000000000000000010000000000000040000000000000000000000000000000000000000000000000000000000000000000000000000000000000000000000000000000000000000000000000000000000000000000000000000000000000000000000000000000000000000000000000000000000000000000000000000000000000000000000000000000000000000000000000020000000000000000020000000000020000000000000000000000000000000000000000000000000000000000000000000000000000000000000000000000000000000000000000000000000000000000000000'),\n",
       " 'status': 1,\n",
       " 'to': '0x30A455FE6ba8370ABFdaC44c4D1f45D8FB27AFA4',\n",
       " 'transactionHash': HexBytes('0xda52f6f97887f41c00b1da9603fee9302bfd62204542f5e833991168b32768db'),\n",
       " 'transactionIndex': 0})"
      ]
     },
     "execution_count": 28,
     "metadata": {},
     "output_type": "execute_result"
    }
   ],
   "source": [
    "task_manager.write({\n",
    "    'func': 'create',\n",
    "    'params': ['foo', 'bar', 'biz']\n",
    "})"
   ]
  },
  {
   "cell_type": "code",
   "execution_count": null,
   "metadata": {},
   "outputs": [],
   "source": []
  }
 ],
 "metadata": {
  "kernelspec": {
   "display_name": "Python 3",
   "language": "python",
   "name": "python3"
  },
  "language_info": {
   "codemirror_mode": {
    "name": "ipython",
    "version": 3
   },
   "file_extension": ".py",
   "mimetype": "text/x-python",
   "name": "python",
   "nbconvert_exporter": "python",
   "pygments_lexer": "ipython3",
   "version": "3.8.5"
  }
 },
 "nbformat": 4,
 "nbformat_minor": 4
}
